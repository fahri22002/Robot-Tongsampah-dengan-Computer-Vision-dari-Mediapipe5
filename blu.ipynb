{
 "cells": [
  {
   "cell_type": "code",
   "execution_count": null,
   "metadata": {},
   "outputs": [
    {
     "name": "stdout",
     "output_type": "stream",
     "text": [
      "Connected to Arduino via Bluetooth\n",
      "Dikirim: A\n",
      "Dikirim: B\n",
      "Input tidak valid! Masukkan 'A' atau 'B'.\n",
      "Input tidak valid! Masukkan 'A' atau 'B'.\n",
      "Input tidak valid! Masukkan 'A' atau 'B'.\n",
      "Input tidak valid! Masukkan 'A' atau 'B'.\n",
      "Input tidak valid! Masukkan 'A' atau 'B'.\n",
      "Input tidak valid! Masukkan 'A' atau 'B'.\n",
      "Input tidak valid! Masukkan 'A' atau 'B'.\n",
      "Input tidak valid! Masukkan 'A' atau 'B'.\n",
      "Input tidak valid! Masukkan 'A' atau 'B'.\n",
      "Input tidak valid! Masukkan 'A' atau 'B'.\n",
      "Input tidak valid! Masukkan 'A' atau 'B'.\n",
      "Input tidak valid! Masukkan 'A' atau 'B'.\n"
     ]
    }
   ],
   "source": [
    "import serial\n",
    "\n",
    "# Ganti dengan port Bluetooth HC-05 yang sesuai\n",
    "# Contoh untuk Windows: 'COM5', untuk Linux/Mac: '/dev/ttyS0'\n",
    "bluetooth_port = 'COM3'\n",
    "baud_rate = 9600\n",
    "\n",
    "# Inisialisasi komunikasi serial\n",
    "arduino = serial.Serial(bluetooth_port, baud_rate)\n",
    "print(\"Connected to Arduino via Bluetooth\")\n",
    "\n",
    "try:\n",
    "    while True:\n",
    "        # Input dari pengguna\n",
    "        user_input = input(\"Masukkan 'A' untuk menyalakan LED atau 'B' untuk mematikan LED: \").strip()\n",
    "        if user_input in ['A', 'B']:\n",
    "            arduino.write(user_input.encode())  # Kirim data ke Arduino\n",
    "            print(f\"Dikirim: {user_input}\")\n",
    "        else:\n",
    "            print(\"Input tidak valid! Masukkan 'A' atau 'B'.\")\n",
    "except KeyboardInterrupt:\n",
    "    print(\"\\nProgram dihentikan.\")\n",
    "finally:\n",
    "    arduino.close()\n",
    "    print(\"Koneksi ditutup.\")\n"
   ]
  },
  {
   "cell_type": "code",
   "execution_count": null,
   "metadata": {},
   "outputs": [],
   "source": []
  }
 ],
 "metadata": {
  "kernelspec": {
   "display_name": "Python 3",
   "language": "python",
   "name": "python3"
  },
  "language_info": {
   "codemirror_mode": {
    "name": "ipython",
    "version": 3
   },
   "file_extension": ".py",
   "mimetype": "text/x-python",
   "name": "python",
   "nbconvert_exporter": "python",
   "pygments_lexer": "ipython3",
   "version": "3.11.4"
  }
 },
 "nbformat": 4,
 "nbformat_minor": 2
}
